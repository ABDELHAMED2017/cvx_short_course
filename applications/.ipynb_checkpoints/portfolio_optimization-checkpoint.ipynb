{
 "metadata": {
  "name": "",
  "signature": "sha256:c7ec6b92df398ec819658e529770bb67aa0858fae8f386bc59166c682a32e75d"
 },
 "nbformat": 3,
 "nbformat_minor": 0,
 "worksheets": [
  {
   "cells": [
    {
     "cell_type": "code",
     "collapsed": false,
     "input": [
      "# Generate data for long only portfolio optimization.\n",
      "import numpy as np\n",
      "np.random.seed(1)\n",
      "n = 10\n",
      "mu = np.abs(np.random.randn(n, 1))\n",
      "Sigma = np.random.randn(n, n)\n",
      "Sigma = Sigma.T.dot(Sigma)"
     ],
     "language": "python",
     "metadata": {},
     "outputs": [],
     "prompt_number": 40
    },
    {
     "cell_type": "code",
     "collapsed": false,
     "input": [
      "# Long only portfolio optimization.\n",
      "from cvxpy import *\n",
      "w = Variable(n)\n",
      "gamma = Parameter(sign='positive')\n",
      "ret = mu.T*w \n",
      "risk = quad_form(w, Sigma)\n",
      "prob = Problem(Maximize(ret - gamma*risk), \n",
      "               [sum_entries(w) == 1, \n",
      "                w >= 0])"
     ],
     "language": "python",
     "metadata": {},
     "outputs": [],
     "prompt_number": 41
    },
    {
     "cell_type": "code",
     "collapsed": false,
     "input": [
      "# Compute trade-off curve.\n",
      "SAMPLES = 100\n",
      "risk_data = np.zeros(SAMPLES)\n",
      "ret_data = np.zeros(SAMPLES)\n",
      "gamma_vals = np.logspace(-2, 3, num=SAMPLES)\n",
      "for i in range(SAMPLES):\n",
      "    gamma.value = gamma_vals[i]\n",
      "    prob.solve()\n",
      "    risk_data[i] = sqrt(risk).value\n",
      "    ret_data[i] = ret.value"
     ],
     "language": "python",
     "metadata": {},
     "outputs": [],
     "prompt_number": 42
    },
    {
     "cell_type": "code",
     "collapsed": false,
     "input": [
      "# Plot long only trade-off curve.\n",
      "import matplotlib.pyplot as plt\n",
      "%matplotlib inline\n",
      "\n",
      "markers_on = [29, 40]\n",
      "fig = plt.figure()\n",
      "ax = fig.add_subplot(111)\n",
      "plt.plot(risk_data, ret_data, 'g-')\n",
      "for marker in markers_on:\n",
      "    plt.plot(risk_data[marker], ret_data[marker], 'bs')\n",
      "    ax.annotate(r\"$\\gamma = %.2f$\" % gamma_vals[marker], xy=(risk_data[marker]+.08, ret_data[marker]-.03), \n",
      "                textcoords='offset points')\n",
      "for i in range(n):\n",
      "    plt.plot(sqrt(Sigma[i,i]).value, r[i], 'ro')\n",
      "plt.xlabel('Standard deviation')\n",
      "plt.ylabel('Return')\n",
      "plt.show()"
     ],
     "language": "python",
     "metadata": {},
     "outputs": [
      {
       "metadata": {},
       "output_type": "display_data",
       "png": "[encoded data removed]",
       "text": [
        "<matplotlib.figure.Figure at 0x109a78950>"
       ]
      }
     ],
     "prompt_number": 43
    },
    {
     "cell_type": "code",
     "collapsed": false,
     "input": [
      "# Plot return distributions for two points on the trade-off curve.\n",
      "import matplotlib.mlab as mlab\n",
      "plt.figure()\n",
      "for midx, idx in enumerate(markers_on):\n",
      "    gamma.value = gamma_vals[idx]\n",
      "    prob.solve()\n",
      "    x = np.linspace(-2, 5, 1000)\n",
      "    plt.plot(x, mlab.normpdf(x, ret.value, risk.value), label=r\"$\\gamma = %.2f$\" % gamma.value)\n",
      "\n",
      "plt.xlabel('Return')\n",
      "plt.ylabel('Density')\n",
      "plt.legend(loc='upper right')\n",
      "plt.show()"
     ],
     "language": "python",
     "metadata": {},
     "outputs": [
      {
       "metadata": {},
       "output_type": "display_data",
       "png": "[encoded data removed]",
       "text": [
        "<matplotlib.figure.Figure at 0x109c2cf90>"
       ]
      }
     ],
     "prompt_number": 44
    },
    {
     "cell_type": "code",
     "collapsed": false,
     "input": [
      "# Portfolio optimization with leverage limit.\n",
      "Lmax = Parameter()\n",
      "prob = Problem(Maximize(ret - gamma*risk), \n",
      "               [sum_entries(w) == 1, \n",
      "                norm(w, 1) <= Lmax])"
     ],
     "language": "python",
     "metadata": {},
     "outputs": [],
     "prompt_number": 45
    },
    {
     "cell_type": "code",
     "collapsed": false,
     "input": [
      "# Compute trade-off curve for each leverage limit.\n",
      "L_vals = [1, 2, 4]\n",
      "SAMPLES = 100\n",
      "risk_data = np.zeros((len(L_vals), SAMPLES))\n",
      "ret_data = np.zeros((len(L_vals), SAMPLES))\n",
      "gamma_vals = np.logspace(-2, 3, num=SAMPLES)\n",
      "w_vals = []\n",
      "for k, L_val in enumerate(L_vals):\n",
      "    for i in range(SAMPLES):\n",
      "        Lmax.value = L_val\n",
      "        gamma.value = gamma_vals[i]\n",
      "        prob.solve()\n",
      "        risk_data[k, i] = sqrt(risk).value\n",
      "        ret_data[k, i] = ret.value"
     ],
     "language": "python",
     "metadata": {},
     "outputs": [],
     "prompt_number": 46
    },
    {
     "cell_type": "code",
     "collapsed": false,
     "input": [
      "# Plot trade-off curves for each leverage limit.\n",
      "for idx, L_val in enumerate(L_vals):\n",
      "    plt.plot(risk_data[idx,:], ret_data[idx,:], label=r\"$L^{\\max}$ = %d\" % L_val)\n",
      "for w_val in w_vals:\n",
      "    w.value = w_val\n",
      "    plt.plot(sqrt(risk).value, ret.value, 'bs')\n",
      "plt.xlabel('Standard deviation')\n",
      "plt.ylabel('Return')\n",
      "plt.legend(loc='lower right')\n",
      "plt.show()"
     ],
     "language": "python",
     "metadata": {},
     "outputs": [
      {
       "metadata": {},
       "output_type": "display_data",
       "png": "[encoded data removed]",
       "text": [
        "<matplotlib.figure.Figure at 0x109de5450>"
       ]
      }
     ],
     "prompt_number": 47
    },
    {
     "cell_type": "code",
     "collapsed": false,
     "input": [
      "# Portfolio optimization with a leverage limit and a bound on risk.\n",
      "prob = Problem(Maximize(ret), \n",
      "              [sum_entries(w) == 1, \n",
      "               norm(w, 1) <= Lmax,\n",
      "               risk <= 2])"
     ],
     "language": "python",
     "metadata": {},
     "outputs": [],
     "prompt_number": 48
    },
    {
     "cell_type": "code",
     "collapsed": false,
     "input": [
      "# Compute solution for different leverage limits.\n",
      "for k, L_val in enumerate(L_vals):\n",
      "    Lmax.value = L_val\n",
      "    prob.solve()\n",
      "    w_vals.append( w.value )"
     ],
     "language": "python",
     "metadata": {},
     "outputs": [],
     "prompt_number": 49
    },
    {
     "cell_type": "code",
     "collapsed": false,
     "input": [
      "# Plot bar graph of holdings for different leverage limits.\n",
      "colors = ['b', 'g', 'r']\n",
      "indices = np.argsort(mu.flatten())\n",
      "for idx, L_val in enumerate(L_vals):\n",
      "     plt.bar(np.arange(1,n+1) + 0.25*idx - 0.375, w_vals[idx][indices], color=colors[idx], \n",
      "             label=r\"$L^{\\max}$ = %d\" % L_val, width = 0.25)\n",
      "plt.ylabel(r\"$w_i$\", fontsize=16)\n",
      "plt.xlabel(r\"$i$\", fontsize=16)\n",
      "plt.xlim([1-0.375, 10+.375])\n",
      "plt.xticks(np.arange(1,n+1))\n",
      "plt.show()"
     ],
     "language": "python",
     "metadata": {},
     "outputs": [
      {
       "metadata": {},
       "output_type": "display_data",
       "png": "[encoded data removed]",
       "text": [
        "<matplotlib.figure.Figure at 0x102406710>"
       ]
      }
     ],
     "prompt_number": 50
    },
    {
     "cell_type": "code",
     "collapsed": false,
     "input": [
      "# Generate data for factor model.\n",
      "n = 3000\n",
      "m = 50\n",
      "np.random.seed(1)\n",
      "mu = np.abs(np.random.randn(n, 1))\n",
      "Sigma_tilde = np.random.randn(m, m)\n",
      "Sigma_tilde = Sigma_tilde.T.dot(Sigma_tilde)\n",
      "D = np.diag(np.random.uniform(0, 0.9, size=n))\n",
      "F = np.random.randn(n, m)"
     ],
     "language": "python",
     "metadata": {},
     "outputs": [],
     "prompt_number": 53
    },
    {
     "cell_type": "code",
     "collapsed": false,
     "input": [
      "# Factor model portfolio optimization.\n",
      "w = Variable(n)\n",
      "f = F.T*w\n",
      "gamma = Parameter(sign='positive')\n",
      "Lmax = Parameter()\n",
      "ret = mu.T*w \n",
      "risk = quad_form(f, Sigma_tilde) + quad_form(w, D)\n",
      "prob_factor = Problem(Maximize(ret - gamma*risk), \n",
      "                     [sum_entries(w) == 1, \n",
      "                      norm(w, 1) <= Lmax])\n",
      "\n",
      "# Solve the factor model problem.\n",
      "Lmax.value = 2\n",
      "gamma.value = 0.1\n",
      "prob.solve(verbose=True)"
     ],
     "language": "python",
     "metadata": {},
     "outputs": [
      {
       "output_type": "stream",
       "stream": "stdout",
       "text": [
        "\n",
        "ECOS 2.0.0 - (C) embotech GmbH, Zurich Switzerland, 2012-15. Web: www.embotech.com/ECOS\n",
        "\n",
        "It     pcost       dcost      gap   pres   dres    k/t    mu     step   sigma     IR    |   BT\n",
        " 0  -1.008e+00  -9.077e+00  +5e+01  4e-01  4e-01  1e+00  2e+00    ---    ---    1  1  - |  -  - \n",
        " 1  -3.117e+00  -4.510e+00  +2e+01  1e-01  1e-01  1e+00  1e+00  0.6365  2e-01   1  1  1 |  0  0\n",
        " 2  -3.166e+00  -4.126e+00  +2e+01  7e-02  7e-02  6e-01  7e-01  0.4867  3e-01   1  1  1 |  0  0\n",
        " 3  -2.721e+00  -3.184e+00  +6e+00  3e-02  2e-02  2e-01  3e-01  0.8757  3e-01   2  2  2 |  0  0\n",
        " 4  -2.662e+00  -2.838e+00  +2e+00  1e-02  5e-03  7e-02  1e-01  0.8156  2e-01   2  2  2 |  0  0\n",
        " 5  -2.633e+00  -2.689e+00  +6e-01  3e-03  1e-03  2e-02  3e-02  0.8815  2e-01   2  2  2 |  0  0\n",
        " 6  -2.546e+00  -2.581e+00  +3e-01  2e-03  7e-04  9e-03  1e-02  0.7435  4e-01   2  2  2 |  0  0\n",
        " 7  -2.534e+00  -2.542e+00  +7e-02  5e-04  2e-04  2e-03  3e-03  0.9114  1e-01   2  1  1 |  0  0\n",
        " 8  -2.523e+00  -2.526e+00  +3e-02  2e-04  6e-05  7e-04  1e-03  0.8026  2e-01   2  2  2 |  0  0\n",
        " 9  -2.522e+00  -2.522e+00  +1e-03  8e-06  2e-06  3e-05  5e-05  0.9853  3e-02   2  1  1 |  0  0\n",
        "10  -2.521e+00  -2.521e+00  +6e-05  4e-07  1e-07  2e-06  3e-06  0.9479  4e-03   2  1  1 |  0  0\n",
        "11  -2.521e+00  -2.521e+00  +1e-06  7e-09  2e-09  3e-08  4e-08  0.9851  2e-03   2  1  1 |  0  0\n",
        "12  -2.521e+00  -2.521e+00  +1e-07  7e-10  2e-10  2e-09  4e-09  0.9074  3e-03   3  1  1 |  0  0\n",
        "13  -2.521e+00  -2.521e+00  +4e-09  3e-11  9e-12  1e-10  2e-10  0.9869  3e-02   2  1  1 |  0  0\n",
        "\n",
        "OPTIMAL (within feastol=2.8e-11, reltol=1.6e-09, abstol=4.0e-09).\n",
        "Runtime: 0.000934 seconds.\n",
        "\n"
       ]
      },
      {
       "metadata": {},
       "output_type": "pyout",
       "prompt_number": 54,
       "text": [
        "2.521453568210938"
       ]
      }
     ],
     "prompt_number": 54
    },
    {
     "cell_type": "code",
     "collapsed": false,
     "input": [
      "# Standard portfolio optimization with data from factor model.\n",
      "risk = quad_form(w, F.dot(Sigma_tilde).dot(F.T) + D)\n",
      "prob = Problem(Maximize(ret - gamma*risk), \n",
      "               [sum_entries(w) == 1, \n",
      "                norm(w, 1) <= Lmax])\n",
      "\n",
      "# Uncomment to solve the problem.\n",
      "# WARNING: this will take many minutes to run.\n",
      "# prob.solve(verbose=True)"
     ],
     "language": "python",
     "metadata": {},
     "outputs": []
    }
   ],
   "metadata": {}
  }
 ]
}