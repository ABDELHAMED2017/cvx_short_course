{
 "metadata": {
  "name": "",
  "signature": "sha256:3adc2edb36009953e80a7f560e5ec6d0d207f3a0c729b876c782a5a139a8283f"
 },
 "nbformat": 3,
 "nbformat_minor": 0,
 "worksheets": [
  {
   "cells": [
    {
     "cell_type": "code",
     "collapsed": false,
     "input": [
      "# Generate data for worst-case risk analysis.\n",
      "import numpy as np\n",
      "np.random.seed(1)\n",
      "n = 5\n",
      "r = np.abs(np.random.randn(n, 1))/15\n",
      "Sigma = np.random.uniform(-.15, .8, size=(n, n))\n",
      "Sigma_nom = Sigma.T.dot(Sigma)\n",
      "Sigma_nom -= (Sigma_nom.max() - 0.9)\n",
      "print \"Sigma_nom =\"\n",
      "print np.round(Sigma_nom, decimals=2)"
     ],
     "language": "python",
     "metadata": {},
     "outputs": [
      {
       "output_type": "stream",
       "stream": "stdout",
       "text": [
        "Sigma_nom =\n",
        "[[ 0.86  0.34 -0.14  0.15  0.55]\n",
        " [ 0.34  0.66  0.12  0.51  0.24]\n",
        " [-0.14  0.12  0.45  0.06  0.11]\n",
        " [ 0.15  0.51  0.06  0.55  0.14]\n",
        " [ 0.55  0.24  0.11  0.14  0.9 ]]\n"
       ]
      }
     ],
     "prompt_number": 5
    },
    {
     "cell_type": "code",
     "collapsed": false,
     "input": [
      "# Form and solve portfolio optimization problem.\n",
      "# Here we minimize risk while requiring a 0.1 return.\n",
      "from cvxpy import *\n",
      "w = Variable(n)\n",
      "ret = r.T*w \n",
      "risk = quad_form(w, Sigma_nom)\n",
      "prob = Problem(Minimize(risk), \n",
      "               [sum_entries(w) == 1, \n",
      "                ret >= 0.1,\n",
      "                norm(w, 1) <= 2])\n",
      "prob.solve()\n",
      "print \"w =\"\n",
      "print np.round(w.value, decimals=2)"
     ],
     "language": "python",
     "metadata": {},
     "outputs": [
      {
       "output_type": "stream",
       "stream": "stdout",
       "text": [
        "w =\n",
        "[[ 0.6 ]\n",
        " [-0.5 ]\n",
        " [ 0.25]\n",
        " [ 0.65]\n",
        " [-0.  ]]\n"
       ]
      }
     ],
     "prompt_number": 6
    },
    {
     "cell_type": "code",
     "collapsed": false,
     "input": [
      "# Form and solve worst-case risk analysis problem.\n",
      "Sigma = Semidef(n)\n",
      "Delta = Symmetric(n)\n",
      "risk = quad_form(w.value, Sigma)\n",
      "prob = Problem(Maximize(risk), \n",
      "               [Sigma == Sigma_nom + Delta, \n",
      "                diag(Delta) == 0, \n",
      "                abs(Delta) <= 0.2])\n",
      "prob.solve()\n",
      "print \"standard deviation =\", sqrt(quad_form(w.value, Sigma_nom)).value\n",
      "print \"worst-case standard deviation =\", sqrt(risk).value\n",
      "print \"worst-case Delta =\"\n",
      "print np.round(Delta.value, decimals=2)"
     ],
     "language": "python",
     "metadata": {},
     "outputs": [
      {
       "output_type": "stream",
       "stream": "stdout",
       "text": [
        "standard deviation = 0.511142980806\n",
        "worst-case standard deviation = 0.917721148222\n",
        "worst-case Delta = \n",
        "[[ 0.   -0.2   0.2   0.2  -0.08]\n",
        " [-0.2   0.   -0.2  -0.2  -0.02]\n",
        " [ 0.2  -0.2   0.    0.2  -0.05]\n",
        " [ 0.2  -0.2   0.2   0.    0.02]\n",
        " [-0.08 -0.02 -0.05  0.02 -0.  ]]\n"
       ]
      }
     ],
     "prompt_number": 7
    }
   ],
   "metadata": {}
  }
 ]
}