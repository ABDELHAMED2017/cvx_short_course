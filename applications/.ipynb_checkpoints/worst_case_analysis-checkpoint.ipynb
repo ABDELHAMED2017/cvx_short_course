{
 "cells": [
  {
   "cell_type": "markdown",
   "metadata": {},
   "source": [
    "# Worst-case risk analysis"
   ]
  },
  {
   "cell_type": "markdown",
   "metadata": {},
   "source": [
    "### Covariance uncertainty\n",
    "\n",
    "In this example we do worst-case risk analysis using CVXPY. \n",
    "Our setting is a single period Markowitz portfolio allocation problem.\n",
    "We have a fixed portfolio allocation $w \\in {\\bf R}^n$. The return covariance $\\Sigma$ is not known,\n",
    "but we believe $\\Sigma \\in \\mathcal S$.\n",
    "Here $\\mathcal S$ is a convex set of possible covariance matrices.\n",
    "The risk is $w^T \\Sigma w$, a linear function of $\\Sigma$.\n",
    "\n",
    "We can compute the worst (maximum) risk, over all possible covariance matrices by solving the convex optimization \n",
    "problem\n",
    "\n",
    "$$\n",
    "\\begin{array}{ll} \\mbox{maximize} & w^T\\Sigma w \\\\\n",
    "\\mbox{subject to} & \\Sigma \\in \\mathcal S, \\quad \\Sigma \\succeq 0,\n",
    "\\end{array}\n",
    "$$\n",
    "\n",
    "with variable $\\Sigma$.\n",
    "\n",
    "If the worst-case risk is not too bad, you can worry less.\n",
    "If not, you'll confront your worst nightmare"
   ]
  },
  {
   "cell_type": "markdown",
   "metadata": {},
   "source": [
    "### Example\n",
    "\n",
    "In the following code we solve the portfolio allocation problem\n",
    "\n",
    "$$\n",
    "\\begin{array}{ll} \\mbox{minimize} & w^T\\Sigma_\\mathrm{nom} w \\\\\n",
    "\\mbox{subject to} & {\\bf 1}^Tw = 1, \\quad \\mu^Tw \\geq 0.1, \\quad \\|w\\|_1 \\leq 2, \n",
    "\\end{array}\n",
    "$$\n",
    "\n",
    "and then compute the worst-case risk under the assumption that $\\mathcal S = \\left\\{ \\Sigma^\\mathrm{nom} + \\Delta \\,:\\,\n",
    "|\\Delta_{ii}| =0, \\;\n",
    "|\\Delta_{ij}| \\leq 0.2\n",
    "\\right\\}$.\n",
    "\n",
    "We might expect that $|\\Delta_{ij}| = 0.2$ for all $i \\neq j$. \n",
    "This does not happen however because of the constraint that $\\Sigma^\\mathrm{nom} + \\Delta$ is positive semidefinite."
   ]
  },
  {
   "cell_type": "code",
   "execution_count": 1,
   "metadata": {
    "collapsed": false
   },
   "outputs": [
    {
     "name": "stdout",
     "output_type": "stream",
     "text": [
      "Sigma_nom =\n",
      "[[ 0.86  0.34 -0.14  0.15  0.55]\n",
      " [ 0.34  0.66  0.12  0.51  0.24]\n",
      " [-0.14  0.12  0.45  0.06  0.11]\n",
      " [ 0.15  0.51  0.06  0.55  0.14]\n",
      " [ 0.55  0.24  0.11  0.14  0.9 ]]\n"
     ]
    }
   ],
   "source": [
    "# Generate data for worst-case risk analysis.\n",
    "import numpy as np\n",
    "np.random.seed(1)\n",
    "n = 5\n",
    "mu = np.abs(np.random.randn(n, 1))/15\n",
    "Sigma = np.random.uniform(-.15, .8, size=(n, n))\n",
    "Sigma_nom = Sigma.T.dot(Sigma)\n",
    "Sigma_nom -= (Sigma_nom.max() - 0.9)\n",
    "print \"Sigma_nom =\"\n",
    "print np.round(Sigma_nom, decimals=2)"
   ]
  },
  {
   "cell_type": "code",
   "execution_count": 2,
   "metadata": {
    "collapsed": false
   },
   "outputs": [
    {
     "name": "stdout",
     "output_type": "stream",
     "text": [
      "w =\n",
      "[[ 0.6 ]\n",
      " [-0.5 ]\n",
      " [ 0.25]\n",
      " [ 0.65]\n",
      " [ 0.  ]]\n"
     ]
    }
   ],
   "source": [
    "# Form and solve portfolio optimization problem.\n",
    "# Here we minimize risk while requiring a 0.1 return.\n",
    "from cvxpy import *\n",
    "w = Variable(n)\n",
    "ret = mu.T*w \n",
    "risk = quad_form(w, Sigma_nom)\n",
    "prob = Problem(Minimize(risk), \n",
    "               [sum_entries(w) == 1, \n",
    "                ret >= 0.1,\n",
    "                norm(w, 1) <= 2])\n",
    "prob.solve()\n",
    "print \"w =\"\n",
    "print np.round(w.value, decimals=2)"
   ]
  },
  {
   "cell_type": "code",
   "execution_count": 3,
   "metadata": {
    "collapsed": false
   },
   "outputs": [
    {
     "name": "stdout",
     "output_type": "stream",
     "text": [
      "standard deviation = 0.511142980806\n",
      "worst-case standard deviation = 0.917721162146\n",
      "worst-case Delta =\n",
      "[[ 0.   -0.2   0.2   0.2  -0.04]\n",
      " [-0.2   0.   -0.2  -0.2   0.  ]\n",
      " [ 0.2  -0.2   0.    0.2  -0.02]\n",
      " [ 0.2  -0.2   0.2   0.    0.  ]\n",
      " [-0.04  0.   -0.02  0.    0.  ]]\n"
     ]
    }
   ],
   "source": [
    "# Form and solve worst-case risk analysis problem.\n",
    "Sigma = Semidef(n)\n",
    "Delta = Symmetric(n)\n",
    "risk = quad_form(w.value, Sigma)\n",
    "prob = Problem(Maximize(risk), \n",
    "               [Sigma == Sigma_nom + Delta, \n",
    "                diag(Delta) == 0, \n",
    "                abs(Delta) <= 0.2])\n",
    "prob.solve()\n",
    "print \"standard deviation =\", sqrt(quad_form(w.value, Sigma_nom)).value\n",
    "print \"worst-case standard deviation =\", sqrt(risk).value\n",
    "print \"worst-case Delta =\"\n",
    "print np.round(Delta.value, decimals=2)"
   ]
  }
 ],
 "metadata": {
  "kernelspec": {
   "display_name": "Python 2",
   "language": "python",
   "name": "python2"
  },
  "language_info": {
   "codemirror_mode": {
    "name": "ipython",
    "version": 2
   },
   "file_extension": ".py",
   "mimetype": "text/x-python",
   "name": "python",
   "nbconvert_exporter": "python",
   "pygments_lexer": "ipython2",
   "version": "2.7.11"
  }
 },
 "nbformat": 4,
 "nbformat_minor": 0
}
