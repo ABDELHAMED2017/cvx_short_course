{
 "metadata": {
  "name": "",
  "signature": "sha256:74ad18ec7391480a1902df3bd1ade1c79a7928fa5c9b6c4d4ba0a0bb86c54a3c"
 },
 "nbformat": 3,
 "nbformat_minor": 0,
 "worksheets": [
  {
   "cells": [
    {
     "cell_type": "code",
     "collapsed": false,
     "input": [
      "# Generate data for logistic model fitting problem.\n",
      "from __future__ import division\n",
      "import numpy as np\n",
      "\n",
      "# Construct Z given X.\n",
      "def pairs(Z):\n",
      "    m, n = Z.shape\n",
      "    k = n*(n+1)//2\n",
      "    X = np.zeros((m,k))\n",
      "    count = 0\n",
      "    for i in range(n):\n",
      "        for j in range(i,n):\n",
      "            X[:,count] = Z[:,i]*Z[:,j]\n",
      "            count += 1\n",
      "    return X\n",
      "    \n",
      "np.random.seed(1)\n",
      "n = 10\n",
      "k = n*(n+1)//2\n",
      "m = 200\n",
      "TEST = 100\n",
      "sigma = 1.9\n",
      "DENSITY = 1.0\n",
      "beta_true = np.random.randn(n,1)\n",
      "idxs = np.random.choice(range(n), int((1-DENSITY)*n), replace=False)\n",
      "for idx in idxs:\n",
      "    beta_true[idx] = 0\n",
      "\n",
      "Z = np.random.binomial(1, 0.5, size=(m,n))\n",
      "Y = np.sign(Z.dot(beta_true) + np.random.normal(0,sigma,size=(m,1)))\n",
      "X = pairs(Z)\n",
      "X = np.hstack([X, np.ones((m,1))])\n",
      "Z_test = np.random.binomial(1, 0.5, size=(TEST,n))\n",
      "Y_test = np.sign(Z_test.dot(beta_true) + np.random.normal(0,sigma,size=(TEST,1)))\n",
      "X_test = pairs(Z_test)\n",
      "X_test = np.hstack([X_test, np.ones((TEST,1))])"
     ],
     "language": "python",
     "metadata": {},
     "outputs": [],
     "prompt_number": 14
    },
    {
     "cell_type": "code",
     "collapsed": false,
     "input": [
      "# Form model fitting problem with logistic loss and L1 regularization.\n",
      "from cvxpy import *\n",
      "beta = Variable(k+1)\n",
      "lambd = Parameter(sign=\"positive\")\n",
      "loss = 0\n",
      "for i in range(m):\n",
      "    loss += log_sum_exp(vstack(0, -Y[i]*X[i,:].T*beta))\n",
      "reg = norm(beta[:k], 1)\n",
      "prob = Problem(Minimize(loss/m + lambd*reg))"
     ],
     "language": "python",
     "metadata": {},
     "outputs": [],
     "prompt_number": 15
    },
    {
     "cell_type": "code",
     "collapsed": false,
     "input": [
      "# Compute a trade-off curve and record train and test error.\n",
      "TRIALS = 100\n",
      "train_error = np.zeros(TRIALS)\n",
      "test_error = np.zeros(TRIALS)\n",
      "lambda_vals = np.logspace(-4, 0, TRIALS)\n",
      "for i in range(TRIALS):\n",
      "    lambd.value = lambda_vals[i]\n",
      "    prob.solve(solver=SCS)\n",
      "    train_error[i] = (np.sign(Z.dot(beta_true)) != np.sign(X.dot(beta.value))).sum()/m\n",
      "    test_error[i] = (np.sign(Z_test.dot(beta_true)) != np.sign(X_test.dot(beta.value))).sum()/TEST"
     ],
     "language": "python",
     "metadata": {},
     "outputs": [],
     "prompt_number": 16
    },
    {
     "cell_type": "code",
     "collapsed": false,
     "input": [
      "# Plot the train and test error over the trade-off curve.\n",
      "import matplotlib.pyplot as plt\n",
      "%matplotlib inline\n",
      "plt.plot(lambda_vals, train_error, label=\"Train error\")\n",
      "plt.plot(lambda_vals, test_error, label=\"Test error\")\n",
      "plt.xscale('log')\n",
      "plt.legend(loc='upper left')\n",
      "plt.xlabel(r\"$\\lambda$\", fontsize=16)\n",
      "plt.show()"
     ],
     "language": "python",
     "metadata": {},
     "outputs": [
      {
       "metadata": {},
       "output_type": "display_data",
       "png": "[encoded data removed]",
       "text": [
        "<matplotlib.figure.Figure at 0x1084b90d0>"
       ]
      }
     ],
     "prompt_number": 17
    },
    {
     "cell_type": "code",
     "collapsed": false,
     "input": [
      "# Solve model fitting problem with the lambda that minimizes test error.\n",
      "idx = np.argmin(test_error)\n",
      "lambd.value = lambda_vals[idx]\n",
      "prob.solve(solver=SCS)\n",
      "\n",
      "# Plot the absolute value of the entries in beta corresponding to each feature.\n",
      "P = np.zeros((n,n))\n",
      "count = 0\n",
      "for i in range(n):\n",
      "    for j in range(i,n):\n",
      "        P[i,j] = np.abs(beta.value[count])\n",
      "        count += 1\n",
      "row_labels = range(1,n+1)\n",
      "column_labels = range(1,n+1)\n",
      "\n",
      "fig, ax = plt.subplots()\n",
      "heatmap = ax.pcolor(P, cmap=plt.cm.Blues)\n",
      "\n",
      "# put the major ticks at the middle of each cell\n",
      "ax.set_xticks(np.arange(P.shape[1])+0.5, minor=False)\n",
      "ax.set_yticks(np.arange(P.shape[0])+0.5, minor=False)\n",
      "\n",
      "# want a more natural, table-like display\n",
      "ax.invert_yaxis()\n",
      "ax.xaxis.tick_top()\n",
      "\n",
      "ax.set_xticklabels(column_labels, minor=False)\n",
      "ax.set_yticklabels(row_labels, minor=False)\n",
      "\n",
      "plt.xlabel(r\"$z_i$\", fontsize=16)\n",
      "ax.xaxis.set_label_position('top') \n",
      "plt.ylabel(r\"$z_j$\", fontsize=16)\n",
      "plt.show()"
     ],
     "language": "python",
     "metadata": {},
     "outputs": [
      {
       "metadata": {},
       "output_type": "display_data",
       "png": "[encoded data removed]",
       "text": [
        "<matplotlib.figure.Figure at 0x1117ae790>"
       ]
      }
     ],
     "prompt_number": 18
    }
   ],
   "metadata": {}
  }
 ]
}