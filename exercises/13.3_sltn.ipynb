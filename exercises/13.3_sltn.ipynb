{
 "cells": [
  {
   "cell_type": "markdown",
   "metadata": {},
   "source": [
    "# Simple portfolio optimization\n",
    "We consider a portfolio optimization problem as described on the *Convex Optimization Applications* slides."
   ]
  },
  {
   "cell_type": "markdown",
   "metadata": {},
   "source": [
    "## (a)\n",
    "Find minimum-risk portfolios with the same expected return as the uniform portfolio ($w =\n",
    "(1/n)1$), with risk measured by portfolio return variance, and the following portfolio constraints\n",
    "(in addition to $1^Tw = 1$):\n",
    "\n",
    "* No (additional) constraints.\n",
    "* Long-only: $w \\geq 0$.\n",
    "* Limit on total short position: $1^T(w_-) \\leq 0.5$, where $(w_-)_i = \\max\\{−w_i\n",
    ", 0\\}$.\n",
    "\n",
    "Compare the optimal risk in these portfolios with each other and the uniform portfolio."
   ]
  },
  {
   "cell_type": "code",
   "execution_count": 1,
   "metadata": {
    "collapsed": false
   },
   "outputs": [],
   "source": [
    "# Construct problem data.\n",
    "import numpy as np\n",
    "\n",
    "np.random.seed(1)\n",
    "n = 20\n",
    "mu = np.ones((n,1))*.03 + np.r_[np.random.rand(n-1,1), np.zeros((1,1))]*.12;\n",
    "S = np.random.randn(n, n); S = np.asmatrix(S)\n",
    "S = S.T*S\n",
    "S = S/max(np.abs(np.diag(S)))*.2\n",
    "S[:, -1] = np.zeros((n, 1))\n",
    "S[-1, :] = np.zeros((n, 1)).T\n",
    "w_unif = np.ones((n, 1))/n; w_unit = np.asmatrix(w_unif)"
   ]
  },
  {
   "cell_type": "code",
   "execution_count": 2,
   "metadata": {
    "collapsed": false
   },
   "outputs": [
    {
     "name": "stdout",
     "output_type": "stream",
     "text": [
      "Risk for uniform: 27.00%\n",
      "Risk for unconstrained: 0.90%\n",
      "Risk for long only: 3.95%\n",
      "Risk for limit on short: 1.50%\n"
     ]
    }
   ],
   "source": [
    "import cvxpy as cvx\n",
    "w = cvx.Variable(n)\n",
    "\n",
    "# Uniform portfolio\n",
    "print 'Risk for uniform: %.2f%%' % float(np.sqrt(np.sum(mu)/n)*100)\n",
    "\n",
    "# No additional constraints\n",
    "risk = cvx.quad_form(w, S)\n",
    "ret = mu.T*w\n",
    "cvx.Problem(cvx.Minimize(risk), [cvx.sum_entries(w) == 1, ret == mu.sum()/n]).solve()\n",
    "print 'Risk for unconstrained: %.2f%%' % float(np.sqrt(risk.value)*100)\n",
    "\n",
    "# Long only\n",
    "cvx.Problem(cvx.Minimize(risk), [cvx.sum_entries(w) == 1, ret == mu.sum()/n, w >= 0]).solve()\n",
    "print 'Risk for long only: %.2f%%' % float(np.sqrt(risk.value)*100)\n",
    "\n",
    "# Limit on total short position\n",
    "cvx.Problem(cvx.Minimize(risk), [cvx.sum_entries(w) == 1, ret == mu.sum()/n, \n",
    "                                 cvx.sum_entries(cvx.neg(w)) <= 0.5]).solve()\n",
    "print 'Risk for limit on short: %.2f%%' % float(np.sqrt(risk.value)*100)"
   ]
  },
  {
   "cell_type": "markdown",
   "metadata": {},
   "source": [
    "## (b)\n",
    "\n",
    "Plot the optimal risk-return trade-off curves for the long-only portfolio, and for total short position limited to 0.5, in the same figure.\n",
    "\n",
    "Comment on the relationship between the two trade-off curves."
   ]
  },
  {
   "cell_type": "code",
   "execution_count": 3,
   "metadata": {
    "collapsed": false
   },
   "outputs": [
    {
     "data": {
      "image/png": "[encoded data removed]",
      "text/plain": [
       "<matplotlib.figure.Figure at 0x6a12ac8>"
      ]
     },
     "metadata": {},
     "output_type": "display_data"
    }
   ],
   "source": [
    "import matplotlib.pyplot as plt\n",
    "%matplotlib inline\n",
    "\n",
    "w = cvx.Variable(n)\n",
    "gamma = cvx.Parameter(sign='positive')\n",
    "N = 128\n",
    "\n",
    "# Long only\n",
    "ret = mu.T*w\n",
    "risk = cvx.quad_form(w, S)\n",
    "prob = cvx.Problem(cvx.Maximize(ret - gamma*risk), \n",
    "                   [cvx.sum_entries(w) == 1, w >= 0])\n",
    "\n",
    "gamma_vals = np.logspace(-1,5,num=N)\n",
    "return_vec1 = np.zeros((N,1))\n",
    "risk_vec1 = np.zeros((N,1))\n",
    "for i in range(N):\n",
    "    gamma.value = gamma_vals[i]\n",
    "    prob.solve()\n",
    "    return_vec1[i] = ret.value\n",
    "    risk_vec1[i] = risk.value\n",
    "plt.figure()\n",
    "plt.plot(np.sqrt(risk_vec1)*100, return_vec1*100, label='Long only')\n",
    "\n",
    "# Limit on short\n",
    "prob = cvx.Problem(cvx.Maximize(ret - gamma*risk), \n",
    "            [cvx.sum_entries(w) == 1, cvx.sum_entries(cvx.neg(w)) <= 0.5])\n",
    "\n",
    "return_vec2 = np.zeros((N,1))\n",
    "risk_vec2 = np.zeros((N,1))\n",
    "for i in range(N):\n",
    "    gamma.value = gamma_vals[i]\n",
    "    prob.solve()\n",
    "    return_vec2[i] = ret.value\n",
    "    risk_vec2[i] = risk.value\n",
    "    \n",
    "plt.plot(np.sqrt(risk_vec2)*100, return_vec2*100, label='Limit on short')\n",
    "plt.legend()\n",
    "plt.xlabel('Risk in %')\n",
    "plt.ylabel('Return in %')\n",
    "plt.show()"
   ]
  }
 ],
 "metadata": {
  "kernelspec": {
   "display_name": "Python 2",
   "language": "python",
   "name": "python2"
  },
  "language_info": {
   "codemirror_mode": {
    "name": "ipython",
    "version": 2
   },
   "file_extension": ".py",
   "mimetype": "text/x-python",
   "name": "python",
   "nbconvert_exporter": "python",
   "pygments_lexer": "ipython2",
   "version": "2.7.11"
  }
 },
 "nbformat": 4,
 "nbformat_minor": 0
}
