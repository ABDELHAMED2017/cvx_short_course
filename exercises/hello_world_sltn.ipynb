{
 "cells": [
  {
   "cell_type": "markdown",
   "metadata": {},
   "source": [
    "# Hello world\n",
    "\n",
    "Solve the following optimization problem using CVXPY:\n",
    "\n",
    "\\begin{array}{ll} \\mbox{minimize} & |x| - 2\\sqrt{y}\\\\\n",
    "\\mbox{subject to} & 2 \\geq e^x \\\\\n",
    "& x + y = 5,\n",
    "\\end{array}\n",
    "\n",
    "where $x,y \\in \\mathbf{R}$ are variables.\n",
    "\n",
    "Find the optimal values of $x$ and $y$."
   ]
  },
  {
   "cell_type": "code",
   "execution_count": 1,
   "metadata": {
    "collapsed": false
   },
   "outputs": [
    {
     "name": "stdout",
     "output_type": "stream",
     "text": [
      "-2.85323497761e-09\n",
      "4.99999999469\n"
     ]
    }
   ],
   "source": [
    "# TODO: your code here.\n",
    "import cvxpy as cvx\n",
    "x = cvx.Variable()\n",
    "y = cvx.Variable()\n",
    "prob = cvx.Problem(cvx.Minimize(cvx.abs(x) - 2*y**0.5),\n",
    "                   [2 >= cvx.exp(x),\n",
    "                    x + y == 5])\n",
    "prob.solve()\n",
    "print x.value\n",
    "print y.value"
   ]
  }
 ],
 "metadata": {
  "kernelspec": {
   "display_name": "Python 2",
   "language": "python",
   "name": "python2"
  },
  "language_info": {
   "codemirror_mode": {
    "name": "ipython",
    "version": 2
   },
   "file_extension": ".py",
   "mimetype": "text/x-python",
   "name": "python",
   "nbconvert_exporter": "python",
   "pygments_lexer": "ipython2",
   "version": "2.7.10"
  }
 },
 "nbformat": 4,
 "nbformat_minor": 0
}
