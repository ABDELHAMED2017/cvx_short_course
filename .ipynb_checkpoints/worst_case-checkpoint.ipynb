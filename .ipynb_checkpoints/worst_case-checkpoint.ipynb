{
 "metadata": {
  "name": "",
  "signature": "sha256:9870581d8f79944f2f22ab64c3ee2329808b277a7b10edec8839d69ed6d95e3e"
 },
 "nbformat": 3,
 "nbformat_minor": 0,
 "worksheets": [
  {
   "cells": [
    {
     "cell_type": "code",
     "collapsed": false,
     "input": [
      "from cvxpy import *\n",
      "import numpy as np\n",
      "np.random.seed(1)\n",
      "n = 5\n",
      "r = np.abs(np.random.randn(n, 1))/15\n",
      "Sigma = np.random.uniform(-.15, .8, size=(n, n))\n",
      "Sigma_nom = Sigma.T.dot(Sigma)\n",
      "Sigma_nom -= (Sigma_nom.max() - 0.9)\n",
      "print np.round(Sigma_nom, decimals=2)\n",
      "\n",
      "w = Variable(n)\n",
      "gamma = Parameter(sign='positive')\n",
      "ret = r.T*w \n",
      "risk = quad_form(w, Sigma_nom)\n",
      "prob = Problem(Minimize(risk), \n",
      "               [sum_entries(w) == 1, \n",
      "                ret >= 0.1,\n",
      "                sum_entries(abs(w)) <= 2])\n",
      "prob.solve()\n",
      "print ret.value\n",
      "print np.round(w.value, decimals=2)\n",
      "\n",
      "\n",
      "Sigma = Semidef(n)\n",
      "Delta = Symmetric(n)\n",
      "risk = quad_form(w.value, Sigma)\n",
      "prob = Problem(Maximize(risk), \n",
      "               [Sigma == Sigma_nom + Delta, \n",
      "                diag(Delta) == 0, \n",
      "                abs(Delta) <= 0.2])\n",
      "prob.solve()\n",
      "print sqrt(quad_form(w.value, Sigma_nom)).value\n",
      "print sqrt(risk).value\n",
      "print Sigma.value\n",
      "print np.round(Delta.value, decimals=2)"
     ],
     "language": "python",
     "metadata": {},
     "outputs": [
      {
       "output_type": "stream",
       "stream": "stdout",
       "text": [
        "[[ 0.86  0.34 -0.14  0.15  0.55]\n",
        " [ 0.34  0.66  0.12  0.51  0.24]\n",
        " [-0.14  0.12  0.45  0.06  0.11]\n",
        " [ 0.15  0.51  0.06  0.55  0.14]\n",
        " [ 0.55  0.24  0.11  0.14  0.9 ]]\n",
        "0.0804644269354\n",
        "[[ 0.41]\n",
        " [-0.42]\n",
        " [ 0.55]\n",
        " [ 0.54]\n",
        " [-0.08]]\n",
        "0.392631442717\n",
        "0.872240175776\n",
        "[[ 0.85647946  0.14368098  0.05636561  0.35132796  0.34661003]\n",
        " [ 0.14368098  0.66342829 -0.08065646  0.30963427  0.44381423]\n",
        " [ 0.05636561 -0.08065646  0.45085406  0.26036191 -0.09005061]\n",
        " [ 0.35132796  0.30963427  0.26036191  0.54516761 -0.00481767]\n",
        " [ 0.34661003  0.44381423 -0.09005061 -0.00481767  0.9       ]]\n",
        "[[ 0.   -0.2   0.2   0.2  -0.2 ]\n",
        " [-0.2   0.   -0.2  -0.2   0.2 ]\n",
        " [ 0.2  -0.2   0.    0.2  -0.2 ]\n",
        " [ 0.2  -0.2   0.2   0.   -0.15]\n",
        " [-0.2   0.2  -0.2  -0.15  0.  ]]\n"
       ]
      }
     ],
     "prompt_number": 56
    }
   ],
   "metadata": {}
  }
 ]
}