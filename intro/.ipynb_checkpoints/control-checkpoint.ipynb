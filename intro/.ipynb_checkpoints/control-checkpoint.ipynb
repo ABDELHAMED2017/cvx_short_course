{
 "metadata": {
  "name": "",
  "signature": "sha256:41a616a7ad9740551c0c040ea5bc6fb58fb38d719001612a5442543497ec4161"
 },
 "nbformat": 3,
 "nbformat_minor": 0,
 "worksheets": [
  {
   "cells": [
    {
     "cell_type": "code",
     "collapsed": false,
     "input": [
      "# Generate data for control problem.\n",
      "import numpy as np\n",
      "np.random.seed(1)\n",
      "n = 8\n",
      "m = 2\n",
      "T = 50\n",
      "alpha = 0.2\n",
      "beta = 5\n",
      "A = np.eye(n) + alpha*np.random.randn(n,n)\n",
      "B = np.random.randn(n,m)\n",
      "x_0 = beta*np.random.randn(n,1)"
     ],
     "language": "python",
     "metadata": {},
     "outputs": [],
     "prompt_number": 4
    },
    {
     "cell_type": "code",
     "collapsed": false,
     "input": [
      "# Form and solve control problem.\n",
      "from cvxpy import *\n",
      "x = Variable(n, T+1)\n",
      "u = Variable(m, T)\n",
      "\n",
      "states = []\n",
      "for t in range(T):\n",
      "    cost = sum_squares(x[:,t+1]) + sum_squares(u[:,t])\n",
      "    constr = [x[:,t+1] == A*x[:,t] + B*u[:,t],\n",
      "              norm(u[:,t], 'inf') <= 1]\n",
      "    states.append( Problem(Minimize(cost), constr) )\n",
      "# sums problem objectives and concatenates constraints.\n",
      "prob = sum(states)\n",
      "prob.constraints += [x[:,T] == 0, x[:,0] == x_0]\n",
      "prob.solve()"
     ],
     "language": "python",
     "metadata": {},
     "outputs": [
      {
       "metadata": {},
       "output_type": "pyout",
       "prompt_number": 5,
       "text": [
        "64470.589682128644"
       ]
      }
     ],
     "prompt_number": 5
    },
    {
     "cell_type": "code",
     "collapsed": false,
     "input": [
      "# Plot results.\n",
      "import matplotlib.pyplot as plt\n",
      "%matplotlib inline\n",
      "f = plt.figure()\n",
      "\n",
      "# Plot (u_t)_1.\n",
      "ax = f.add_subplot(411)\n",
      "plt.plot(u[0,:].value.A.flatten())\n",
      "plt.ylabel(r\"$(u_t)_1$\", fontsize=16)\n",
      "plt.yticks(np.linspace(-1.0, 1.0, 3))\n",
      "plt.xticks([])\n",
      "\n",
      "# Plot (u_t)_2.\n",
      "plt.subplot(4,1,2)\n",
      "plt.plot(u[1,:].value.A.flatten())\n",
      "plt.ylabel(r\"$(u_t)_2$\", fontsize=16)\n",
      "plt.yticks(np.linspace(-1, 1, 3))\n",
      "plt.xticks([])\n",
      "\n",
      "# Plot (x_t)_1.\n",
      "plt.subplot(4,1,3)\n",
      "x1 = x[0,:].value.A.flatten()\n",
      "plt.plot(x1)\n",
      "plt.ylabel(r\"$(x_t)_1$\", fontsize=16)\n",
      "plt.yticks([-10, 0, 10])\n",
      "plt.ylim([-10, 10])\n",
      "plt.xticks([])\n",
      "\n",
      "# Plot (x_t)_2.\n",
      "plt.subplot(4,1,4)\n",
      "x2 = x[1,:].value.A.flatten()\n",
      "plt.plot(range(51), x2)\n",
      "plt.yticks([-25, 0, 25])\n",
      "plt.ylim([-25, 25])\n",
      "plt.ylabel(r\"$(x_t)_2$\", fontsize=16)\n",
      "plt.xlabel(r\"$t$\", fontsize=16)\n",
      "plt.tight_layout()\n",
      "plt.show()"
     ],
     "language": "python",
     "metadata": {},
     "outputs": [
      {
       "metadata": {},
       "output_type": "display_data",
       "png": "[encoded data removed]",
       "text": [
        "<matplotlib.figure.Figure at 0x108714510>"
       ]
      }
     ],
     "prompt_number": 6
    }
   ],
   "metadata": {}
  }
 ]
}