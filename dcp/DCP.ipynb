{
 "cells": [
  {
   "cell_type": "code",
   "execution_count": 1,
   "metadata": {
    "collapsed": false
   },
   "outputs": [
    {
     "name": "stdout",
     "output_type": "stream",
     "text": [
      "expression curvature = CONVEX\n",
      "expression sign = POSITIVE\n",
      "expression is DCP? True\n"
     ]
    }
   ],
   "source": [
    "# DCP analysis in CVXPY\n",
    "from cvxpy import *\n",
    "x = Variable()\n",
    "y = Variable()\n",
    "expr = quad_over_lin(x - y, 1 - max_elemwise(x,y))\n",
    "print \"expression curvature =\", expr.curvature\n",
    "print \"expression sign =\", expr.sign\n",
    "print \"expression is DCP?\", expr.is_dcp()"
   ]
  }
 ],
 "metadata": {
  "kernelspec": {
   "display_name": "Python 2",
   "language": "python",
   "name": "python2"
  },
  "language_info": {
   "codemirror_mode": {
    "name": "ipython",
    "version": 2
   },
   "file_extension": ".py",
   "mimetype": "text/x-python",
   "name": "python",
   "nbconvert_exporter": "python",
   "pygments_lexer": "ipython2",
   "version": "2.7.10"
  }
 },
 "nbformat": 4,
 "nbformat_minor": 0
}
