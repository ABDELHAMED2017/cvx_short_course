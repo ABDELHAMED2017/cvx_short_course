{
 "metadata": {
  "name": "",
  "signature": "sha256:bdaf2a974e47d447ae1c1f32d1820f3eaca9fb5f2b467f913a64f859309f45a9"
 },
 "nbformat": 3,
 "nbformat_minor": 0,
 "worksheets": [
  {
   "cells": [
    {
     "cell_type": "code",
     "collapsed": false,
     "input": [
      "# DCP analysis in CVXPY\n",
      "from cvxpy import *\n",
      "x = Variable()\n",
      "y = Variable()\n",
      "expr = quad_over_lin(x - y, 1 - max_elemwise(x,y))\n",
      "print \"expression curvature =\", expr.curvature\n",
      "print \"expression sign =\", expr.sign\n",
      "print \"expression is DCP?\", expr.is_dcp()"
     ],
     "language": "python",
     "metadata": {},
     "outputs": [
      {
       "output_type": "stream",
       "stream": "stdout",
       "text": [
        "expression curvature = CONVEX\n",
        "expression sign = POSITIVE\n",
        "expression is DCP? True\n"
       ]
      }
     ],
     "prompt_number": 3
    }
   ],
   "metadata": {}
  }
 ]
}