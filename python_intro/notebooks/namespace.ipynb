{
 "cells": [
  {
   "cell_type": "markdown",
   "metadata": {},
   "source": [
    "# Python namespaces\n",
    "\n",
    "This notebook covers the basics of Python namespaces."
   ]
  },
  {
   "cell_type": "code",
   "execution_count": 1,
   "metadata": {
    "collapsed": false
   },
   "outputs": [
    {
     "name": "stdout",
     "output_type": "stream",
     "text": [
      "720\n"
     ]
    }
   ],
   "source": [
    "# Use the default math module\n",
    "import math\n",
    "\n",
    "# Need to use the prefix 'math.' to call functions in the math module\n",
    "print math.factorial(6)"
   ]
  },
  {
   "cell_type": "code",
   "execution_count": 2,
   "metadata": {
    "collapsed": false
   },
   "outputs": [
    {
     "name": "stdout",
     "output_type": "stream",
     "text": [
      "0.5\n"
     ]
    }
   ],
   "source": [
    "# This imports sin and cos functions only\n",
    "from math import sin, cos\n",
    "\n",
    "# No need to use 'math.' prefix for individually imported functions\n",
    "print cos(math.pi/3)"
   ]
  },
  {
   "cell_type": "code",
   "execution_count": 3,
   "metadata": {
    "collapsed": false
   },
   "outputs": [
    {
     "name": "stdout",
     "output_type": "stream",
     "text": [
      "0.766277140235\n",
      "0.538507196966\n",
      "0.27876923732\n",
      "0.817808914127\n",
      "0.778184774942\n"
     ]
    }
   ],
   "source": [
    "# Can use custom namespace name different from the module name\n",
    "# This imports random but uses 'rn' namespace\n",
    "import random as rn\n",
    "for i in range(5):\n",
    "    # print a random number in [0, 1)\n",
    "    print rn.random()"
   ]
  },
  {
   "cell_type": "code",
   "execution_count": 4,
   "metadata": {
    "collapsed": false
   },
   "outputs": [
    {
     "name": "stdout",
     "output_type": "stream",
     "text": [
      "1.22464679915e-16\n"
     ]
    }
   ],
   "source": [
    "# Import all the 'math' functions into the namespace\n",
    "# Importing everything without a namespace is generally discouraged\n",
    "from math import *\n",
    "print sin(pi)"
   ]
  }
 ],
 "metadata": {
  "kernelspec": {
   "display_name": "Python 2",
   "language": "python",
   "name": "python2"
  },
  "language_info": {
   "codemirror_mode": {
    "name": "ipython",
    "version": 2
   },
   "file_extension": ".py",
   "mimetype": "text/x-python",
   "name": "python",
   "nbconvert_exporter": "python",
   "pygments_lexer": "ipython2",
   "version": "2.7.11"
  }
 },
 "nbformat": 4,
 "nbformat_minor": 0
}
