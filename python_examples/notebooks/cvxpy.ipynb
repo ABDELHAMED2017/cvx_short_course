{
 "cells": [
  {
   "cell_type": "markdown",
   "metadata": {},
   "source": [
    "# CVXPY\n",
    "\n",
    "This Python notebook shows a basic example using CVXPY."
   ]
  },
  {
   "cell_type": "code",
   "execution_count": 3,
   "metadata": {
    "collapsed": false
   },
   "outputs": [
    {
     "name": "stdout",
     "output_type": "stream",
     "text": [
      "[[  1.84928817e-01]\n",
      " [  4.25089933e-01]\n",
      " [  1.20236321e-09]\n",
      " [  2.10233470e-11]\n",
      " [  1.42939505e-10]\n",
      " [  1.68037041e-01]\n",
      " [  6.94600506e-11]]\n",
      "[[  2.34789619e-09]\n",
      " [  1.27027693e-09]\n",
      " [  4.28269956e-01]\n",
      " [  4.44105005e+00]\n",
      " [  2.45354882e+00]\n",
      " [  2.69207121e-09]\n",
      " [  3.24159751e+00]]\n"
     ]
    }
   ],
   "source": [
    "from cvxpy import *\n",
    "import numpy as np\n",
    "\n",
    "# Problem data.\n",
    "m = 10\n",
    "n = 7\n",
    "np.random.seed(1)\n",
    "A = np.asmatrix(np.random.randn(m, n))\n",
    "b = np.asmatrix(np.random.randn(m, 1))\n",
    "\n",
    "# Construct the problem.\n",
    "x = Variable(n)\n",
    "# *, +, -, / are overloaded to construct CVXPY objects.\n",
    "cost = sum_squares(A*x - b)\n",
    "objective = Minimize(cost)\n",
    "# <=, >=, == are overloaded to construct CVXPY constraints.\n",
    "constraints = [0 <= x, x <= 1]\n",
    "prob = Problem(objective, constraints)\n",
    "\n",
    "# The optimal objective is returned by prob.solve().\n",
    "result = prob.solve()\n",
    "# The optimal value for x is stored in x.value.\n",
    "print x.value\n",
    "# The optimal Lagrange multiplier for a constraint\n",
    "# is stored in constraint.dual_value.\n",
    "print constraints[0].dual_value"
   ]
  }
 ],
 "metadata": {
  "kernelspec": {
   "display_name": "Python 2",
   "language": "python",
   "name": "python2"
  },
  "language_info": {
   "codemirror_mode": {
    "name": "ipython",
    "version": 2
   },
   "file_extension": ".py",
   "mimetype": "text/x-python",
   "name": "python",
   "nbconvert_exporter": "python",
   "pygments_lexer": "ipython2",
   "version": "2.7.10"
  }
 },
 "nbformat": 4,
 "nbformat_minor": 0
}
