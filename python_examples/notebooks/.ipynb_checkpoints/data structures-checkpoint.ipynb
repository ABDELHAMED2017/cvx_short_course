{
 "cells": [
  {
   "cell_type": "markdown",
   "metadata": {},
   "source": [
    "# Data structures\n",
    "\n",
    "This notebook covers the basics of the list and dict data structures."
   ]
  },
  {
   "cell_type": "code",
   "execution_count": 11,
   "metadata": {
    "collapsed": false
   },
   "outputs": [
    {
     "name": "stdout",
     "output_type": "stream",
     "text": [
      "[1, 2, 3]\n",
      "[0, 1, 4, 9, 16]\n",
      "5\n"
     ]
    }
   ],
   "source": [
    "# declare a list\n",
    "a = [1, 2, 3]\n",
    "print a\n",
    "\n",
    "# making a list using list comprehension\n",
    "# same as\n",
    "#   a = [0, 1, 4, 9, ..., 81]\n",
    "a = [x**2 for x in range(5)]\n",
    "print a\n",
    "\n",
    "# length of the list\n",
    "print len(a)"
   ]
  },
  {
   "cell_type": "code",
   "execution_count": 12,
   "metadata": {
    "collapsed": false
   },
   "outputs": [
    {
     "name": "stdout",
     "output_type": "stream",
     "text": [
      "[0, 1, 4, 9, 16, 25]\n",
      "[0, 1, 4, 9, 16]\n"
     ]
    }
   ],
   "source": [
    "# appending to the end of the list\n",
    "a.append(5**2)\n",
    "print a\n",
    "\n",
    "# removing the last element\n",
    "a.pop()\n",
    "print a"
   ]
  },
  {
   "cell_type": "code",
   "execution_count": 13,
   "metadata": {
    "collapsed": false
   },
   "outputs": [
    {
     "name": "stdout",
     "output_type": "stream",
     "text": [
      "[0, 1, 4]\n",
      "[9, 16]\n",
      "[1, 4, 9]\n"
     ]
    }
   ],
   "source": [
    "# taking the first 3 elements\n",
    "print a[:3]\n",
    "\n",
    "# taking the last 2 elements\n",
    "print a[-2:]\n",
    "\n",
    "# taking the middle 3 elements (a[1], a[2], a[3])\n",
    "#   NOTE: a[4] is not included!\n",
    "print a[1:4]"
   ]
  },
  {
   "cell_type": "code",
   "execution_count": 14,
   "metadata": {
    "collapsed": false
   },
   "outputs": [
    {
     "name": "stdout",
     "output_type": "stream",
     "text": [
      "[1, 2, 3, 4]\n",
      "[0, 1, 4, 9, 16, 1, 2, 3, 4, 5]\n"
     ]
    }
   ],
   "source": [
    "# + concatenates lists\n",
    "print [1,2] + [3,4]\n",
    "\n",
    "b = [1, 2, 3, 4, 5]\n",
    "a += b # appending a list\n",
    "print a"
   ]
  },
  {
   "cell_type": "code",
   "execution_count": 15,
   "metadata": {
    "collapsed": false
   },
   "outputs": [
    {
     "name": "stdout",
     "output_type": "stream",
     "text": [
      "{'sape': 4139, 'jack': 4098, 'guido': 4127}\n",
      "4098\n",
      "sape 4139\n",
      "jack 4098\n",
      "guido 4127\n"
     ]
    }
   ],
   "source": [
    "# dictionary is a collection of key-value pairs\n",
    "d = {'jack': 4098, 'sape': 4139}\n",
    "d['guido'] = 4127\n",
    "print d\n",
    "print d['jack']\n",
    "\n",
    "# iterating over a dictionary.\n",
    "for key, value in d.items():\n",
    "    print key,value\n",
    "\n",
    "# making an empty dictionary\n",
    "empty_dict = dict()"
   ]
  }
 ],
 "metadata": {
  "kernelspec": {
   "display_name": "Python 2",
   "language": "python",
   "name": "python2"
  },
  "language_info": {
   "codemirror_mode": {
    "name": "ipython",
    "version": 2
   },
   "file_extension": ".py",
   "mimetype": "text/x-python",
   "name": "python",
   "nbconvert_exporter": "python",
   "pygments_lexer": "ipython2",
   "version": "2.7.10"
  }
 },
 "nbformat": 4,
 "nbformat_minor": 0
}
