{
 "cells": [
  {
   "cell_type": "markdown",
   "metadata": {},
   "source": [
    "# NumPy\n",
    "\n",
    "This notebook covers the basics of NumPy, the Python matrix library."
   ]
  },
  {
   "cell_type": "code",
   "execution_count": 27,
   "metadata": {
    "collapsed": false
   },
   "outputs": [
    {
     "name": "stdout",
     "output_type": "stream",
     "text": [
      "[[ 0.  0.  0.  0.]\n",
      " [ 0.  0.  0.  0.]\n",
      " [ 0.  0.  0.  0.]]\n",
      "(3, 4)\n"
     ]
    }
   ],
   "source": [
    "# Import namespace convention: np\n",
    "import numpy as np\n",
    "\n",
    "# Create an all-zero matrix\n",
    "#   NOTE: argument is a tuple '(3, 4)'\n",
    "#     WRONG: np.zeros(3, 4)\n",
    "#     CORRECT: np.zeros( (3, 4) )\n",
    "A = np.zeros( (3, 4) )\n",
    "\n",
    "# numpy creates arrays by default\n",
    "# CVXPY works best with matrices\n",
    "# It's best to cast every array to a matrix manually\n",
    "A = np.asmatrix(A)\n",
    "print A\n",
    "print A.shape # size of A"
   ]
  },
  {
   "cell_type": "code",
   "execution_count": 28,
   "metadata": {
    "collapsed": false
   },
   "outputs": [
    {
     "name": "stdout",
     "output_type": "stream",
     "text": [
      "[[ 1.  1.  1.  1.]\n",
      " [ 1.  1.  1.  1.]\n",
      " [ 1.  1.  1.  1.]]\n",
      "[[ 1.  0.  0.  0.  0.]\n",
      " [ 0.  1.  0.  0.  0.]\n",
      " [ 0.  0.  1.  0.  0.]\n",
      " [ 0.  0.  0.  1.  0.]\n",
      " [ 0.  0.  0.  0.  1.]]\n",
      "[[ 1.  0.  0.  0.  0.  1.  0.  0.  0.  0.]\n",
      " [ 0.  1.  0.  0.  0.  0.  1.  0.  0.  0.]\n",
      " [ 0.  0.  1.  0.  0.  0.  0.  1.  0.  0.]\n",
      " [ 0.  0.  0.  1.  0.  0.  0.  0.  1.  0.]\n",
      " [ 0.  0.  0.  0.  1.  0.  0.  0.  0.  1.]]\n"
     ]
    }
   ],
   "source": [
    "# All-one matrix\n",
    "B = np.ones( (3, 4) )\n",
    "B = np.asmatrix(B)\n",
    "print B\n",
    "\n",
    "# Identity matrix\n",
    "I = np.asmatrix(np.eye(5))\n",
    "print I\n",
    "\n",
    "# Stacking matrices horizontally\n",
    "#   Use vstack to stack vertically\n",
    "J = np.hstack( (I, I) )\n",
    "print J"
   ]
  },
  {
   "cell_type": "code",
   "execution_count": 29,
   "metadata": {
    "collapsed": false
   },
   "outputs": [
    {
     "name": "stdout",
     "output_type": "stream",
     "text": [
      "[[ 1.58085591  1.08776958 -0.73047221  0.50612989]\n",
      " [-1.10644598 -2.16486839 -1.3347792   0.94797281]\n",
      " [ 0.06275606 -0.19164283 -1.42435435  1.21241483]\n",
      " [-0.38774534 -1.23660503  1.22656528 -1.24185849]]\n",
      "[[ 1.08776958]\n",
      " [-2.16486839]\n",
      " [-0.19164283]\n",
      " [-1.23660503]]\n",
      "1.2124148288\n"
     ]
    }
   ],
   "source": [
    "# Random matrix with standard Gaussian entries\n",
    "#   NOTE: argument is NOT a tuple\n",
    "Q = np.random.randn(4, 4)\n",
    "Q = np.asmatrix(Q)\n",
    "\n",
    "print Q\n",
    "print Q[:, 1] # Second column (everything is 0-indexed)\n",
    "print Q[2, 3] # (3, 4) entry (as a real number)"
   ]
  },
  {
   "cell_type": "code",
   "execution_count": 30,
   "metadata": {
    "collapsed": false
   },
   "outputs": [
    {
     "name": "stdout",
     "output_type": "stream",
     "text": [
      "[[-5.60410268]]\n",
      "-5.6041026834\n"
     ]
    }
   ],
   "source": [
    "# Random column vector of length 4\n",
    "v = np.asmatrix(np.random.randn(4, 1))\n",
    "\n",
    "# v.T: v tranpose\n",
    "z = v.T * Q * v\n",
    "\n",
    "# The result is a 1-by-1 matrix\n",
    "print z\n",
    "\n",
    "# Extract the result as a real number\n",
    "print z[0, 0]"
   ]
  },
  {
   "cell_type": "code",
   "execution_count": 31,
   "metadata": {
    "collapsed": false
   },
   "outputs": [
    {
     "name": "stdout",
     "output_type": "stream",
     "text": [
      "[[1 3]\n",
      " [2 4]]\n",
      "[[ -1.    6.4]\n",
      " [ 15.   32. ]]\n",
      "[[4 6]]\n",
      "[[3]\n",
      " [7]]\n"
     ]
    }
   ],
   "source": [
    "# Other useful methods\n",
    "#   Construct a matrix\n",
    "A = np.matrix(\"1 2; 3 4\")\n",
    "B = np.matrix(\"-1 3.2; 5 8\")\n",
    "#   Transpose a matrix\n",
    "print A.T\n",
    "#   Elementwise multiplication\n",
    "print np.multiply(A, B)\n",
    "#   Sum of each column (as a row vector)\n",
    "print np.sum(A, axis=0)\n",
    "#   Sum of each row (as a column vector)\n",
    "print np.sum(A, axis=1)"
   ]
  },
  {
   "cell_type": "code",
   "execution_count": 32,
   "metadata": {
    "collapsed": false
   },
   "outputs": [
    {
     "name": "stdout",
     "output_type": "stream",
     "text": [
      "d =  [  0.13393125  29.86606875]\n",
      "V =  [[-0.81741556 -0.57604844]\n",
      " [ 0.57604844 -0.81741556]]\n",
      "||v||_2 =  2.2360679775\n",
      "Q^{-1}v =  [[-2. ]\n",
      " [ 1.5]]\n"
     ]
    }
   ],
   "source": [
    "# Linear algebra routines\n",
    "Q = A.T*A\n",
    "v = np.matrix(\"1 2\").T\n",
    "(d, V) = np.linalg.eig(Q) # Eigendecomposition\n",
    "print \"d = \", d\n",
    "print \"V = \", V\n",
    "\n",
    "print \"||v||_2 = \", np.linalg.norm(v) # 2-norm of a vector\n",
    "\n",
    "Qinv = np.linalg.inv(Q) # Matrix inverse\n",
    "# Solves Qx = v (faster than Qinv*v)\n",
    "x = np.linalg.solve(Q, v)\n",
    "print \"Q^{-1}v = \", x"
   ]
  }
 ],
 "metadata": {
  "kernelspec": {
   "display_name": "Python 2",
   "language": "python",
   "name": "python2"
  },
  "language_info": {
   "codemirror_mode": {
    "name": "ipython",
    "version": 2
   },
   "file_extension": ".py",
   "mimetype": "text/x-python",
   "name": "python",
   "nbconvert_exporter": "python",
   "pygments_lexer": "ipython2",
   "version": "2.7.10"
  }
 },
 "nbformat": 4,
 "nbformat_minor": 0
}
